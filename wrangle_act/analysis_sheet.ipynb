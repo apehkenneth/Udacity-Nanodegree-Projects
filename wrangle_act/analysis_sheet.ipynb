{
 "cells": [
  {
   "cell_type": "code",
   "execution_count": 57,
   "metadata": {},
   "outputs": [],
   "source": [
    "# Importing all necessary modules\n",
    "\n",
    "import matplotlib as plt\n",
    "import pandas as pd\n",
    "import numpy as np\n",
    "import matplotlib.pyplot as plt\n",
    "import seaborn as sns\n",
    "\n",
    "\n",
    "%matplotlib inline\n",
    "plt.style.use('ggplot')"
   ]
  },
  {
   "cell_type": "code",
   "execution_count": 58,
   "metadata": {},
   "outputs": [
    {
     "name": "stdout",
     "output_type": "stream",
     "text": [
      "<class 'pandas.core.frame.DataFrame'>\n",
      "RangeIndex: 2051 entries, 0 to 2050\n",
      "Data columns (total 16 columns):\n",
      " #   Column              Non-Null Count  Dtype  \n",
      "---  ------              --------------  -----  \n",
      " 0   tweet_id            2051 non-null   object \n",
      " 1   created_at          2051 non-null   object \n",
      " 2   source              2051 non-null   object \n",
      " 3   text                2051 non-null   object \n",
      " 4   character_count     2051 non-null   int64  \n",
      " 5   name                1423 non-null   object \n",
      " 6   dog                 2051 non-null   bool   \n",
      " 7   breed               2051 non-null   object \n",
      " 8   rating_numerator    2051 non-null   float64\n",
      " 9   rating_denominator  2051 non-null   int64  \n",
      " 10  dog_type            307 non-null    object \n",
      " 11  rating_ratio        2051 non-null   float64\n",
      " 12  favorite_count      2051 non-null   int64  \n",
      " 13  retweet_count       2051 non-null   int64  \n",
      " 14  expanded_urls       2051 non-null   object \n",
      " 15  jpg_url             2051 non-null   object \n",
      "dtypes: bool(1), float64(2), int64(4), object(9)\n",
      "memory usage: 242.5+ KB\n"
     ]
    }
   ],
   "source": [
    "df = pd.read_csv('twitter_archive_master.csv', dtype={'tweet_id': 'object'})\n",
    "df.info()"
   ]
  },
  {
   "cell_type": "code",
   "execution_count": 59,
   "metadata": {},
   "outputs": [
    {
     "data": {
      "text/html": [
       "<div>\n",
       "<style scoped>\n",
       "    .dataframe tbody tr th:only-of-type {\n",
       "        vertical-align: middle;\n",
       "    }\n",
       "\n",
       "    .dataframe tbody tr th {\n",
       "        vertical-align: top;\n",
       "    }\n",
       "\n",
       "    .dataframe thead th {\n",
       "        text-align: right;\n",
       "    }\n",
       "</style>\n",
       "<table border=\"1\" class=\"dataframe\">\n",
       "  <thead>\n",
       "    <tr style=\"text-align: right;\">\n",
       "      <th></th>\n",
       "      <th>tweet_id</th>\n",
       "      <th>created_at</th>\n",
       "      <th>source</th>\n",
       "      <th>text</th>\n",
       "      <th>character_count</th>\n",
       "      <th>name</th>\n",
       "      <th>dog</th>\n",
       "      <th>breed</th>\n",
       "      <th>rating_numerator</th>\n",
       "      <th>rating_denominator</th>\n",
       "      <th>dog_type</th>\n",
       "      <th>rating_ratio</th>\n",
       "      <th>favorite_count</th>\n",
       "      <th>retweet_count</th>\n",
       "      <th>expanded_urls</th>\n",
       "      <th>jpg_url</th>\n",
       "    </tr>\n",
       "  </thead>\n",
       "  <tbody>\n",
       "    <tr>\n",
       "      <th>0</th>\n",
       "      <td>892420643555336193</td>\n",
       "      <td>2017-08-01 16:23:56+00:00</td>\n",
       "      <td>Twitter iPhone</td>\n",
       "      <td>This is Phineas. He's a mystical boy. Only eve...</td>\n",
       "      <td>85</td>\n",
       "      <td>Phineas</td>\n",
       "      <td>False</td>\n",
       "      <td>orange</td>\n",
       "      <td>13.0</td>\n",
       "      <td>10</td>\n",
       "      <td>NaN</td>\n",
       "      <td>1.3</td>\n",
       "      <td>39467</td>\n",
       "      <td>8853</td>\n",
       "      <td>https://twitter.com/dog_rates/status/892420643...</td>\n",
       "      <td>https://pbs.twimg.com/media/DGKD1-bXoAAIAUK.jpg</td>\n",
       "    </tr>\n",
       "    <tr>\n",
       "      <th>1</th>\n",
       "      <td>892177421306343426</td>\n",
       "      <td>2017-08-01 00:17:27+00:00</td>\n",
       "      <td>Twitter iPhone</td>\n",
       "      <td>This is Tilly. She's just checking pup on you....</td>\n",
       "      <td>138</td>\n",
       "      <td>Tilly</td>\n",
       "      <td>True</td>\n",
       "      <td>chihuahua</td>\n",
       "      <td>13.0</td>\n",
       "      <td>10</td>\n",
       "      <td>NaN</td>\n",
       "      <td>1.3</td>\n",
       "      <td>33819</td>\n",
       "      <td>6514</td>\n",
       "      <td>https://twitter.com/dog_rates/status/892177421...</td>\n",
       "      <td>https://pbs.twimg.com/media/DGGmoV4XsAAUL6n.jpg</td>\n",
       "    </tr>\n",
       "    <tr>\n",
       "      <th>2</th>\n",
       "      <td>891815181378084864</td>\n",
       "      <td>2017-07-31 00:18:03+00:00</td>\n",
       "      <td>Twitter iPhone</td>\n",
       "      <td>This is Archie. He is a rare Norwegian Pouncin...</td>\n",
       "      <td>121</td>\n",
       "      <td>Archie</td>\n",
       "      <td>True</td>\n",
       "      <td>chihuahua</td>\n",
       "      <td>12.0</td>\n",
       "      <td>10</td>\n",
       "      <td>NaN</td>\n",
       "      <td>1.2</td>\n",
       "      <td>25461</td>\n",
       "      <td>4328</td>\n",
       "      <td>https://twitter.com/dog_rates/status/891815181...</td>\n",
       "      <td>https://pbs.twimg.com/media/DGBdLU1WsAANxJ9.jpg</td>\n",
       "    </tr>\n",
       "  </tbody>\n",
       "</table>\n",
       "</div>"
      ],
      "text/plain": [
       "             tweet_id                 created_at          source  \\\n",
       "0  892420643555336193  2017-08-01 16:23:56+00:00  Twitter iPhone   \n",
       "1  892177421306343426  2017-08-01 00:17:27+00:00  Twitter iPhone   \n",
       "2  891815181378084864  2017-07-31 00:18:03+00:00  Twitter iPhone   \n",
       "\n",
       "                                                text  character_count  \\\n",
       "0  This is Phineas. He's a mystical boy. Only eve...               85   \n",
       "1  This is Tilly. She's just checking pup on you....              138   \n",
       "2  This is Archie. He is a rare Norwegian Pouncin...              121   \n",
       "\n",
       "      name    dog      breed  rating_numerator  rating_denominator dog_type  \\\n",
       "0  Phineas  False     orange              13.0                  10      NaN   \n",
       "1    Tilly   True  chihuahua              13.0                  10      NaN   \n",
       "2   Archie   True  chihuahua              12.0                  10      NaN   \n",
       "\n",
       "   rating_ratio  favorite_count  retweet_count  \\\n",
       "0           1.3           39467           8853   \n",
       "1           1.3           33819           6514   \n",
       "2           1.2           25461           4328   \n",
       "\n",
       "                                       expanded_urls  \\\n",
       "0  https://twitter.com/dog_rates/status/892420643...   \n",
       "1  https://twitter.com/dog_rates/status/892177421...   \n",
       "2  https://twitter.com/dog_rates/status/891815181...   \n",
       "\n",
       "                                           jpg_url  \n",
       "0  https://pbs.twimg.com/media/DGKD1-bXoAAIAUK.jpg  \n",
       "1  https://pbs.twimg.com/media/DGGmoV4XsAAUL6n.jpg  \n",
       "2  https://pbs.twimg.com/media/DGBdLU1WsAANxJ9.jpg  "
      ]
     },
     "execution_count": 59,
     "metadata": {},
     "output_type": "execute_result"
    }
   ],
   "source": [
    "df.head(3)"
   ]
  },
  {
   "cell_type": "code",
   "execution_count": null,
   "metadata": {},
   "outputs": [],
   "source": []
  },
  {
   "cell_type": "code",
   "execution_count": 60,
   "metadata": {},
   "outputs": [
    {
     "data": {
      "text/html": [
       "<div>\n",
       "<style scoped>\n",
       "    .dataframe tbody tr th:only-of-type {\n",
       "        vertical-align: middle;\n",
       "    }\n",
       "\n",
       "    .dataframe tbody tr th {\n",
       "        vertical-align: top;\n",
       "    }\n",
       "\n",
       "    .dataframe thead th {\n",
       "        text-align: right;\n",
       "    }\n",
       "</style>\n",
       "<table border=\"1\" class=\"dataframe\">\n",
       "  <thead>\n",
       "    <tr style=\"text-align: right;\">\n",
       "      <th></th>\n",
       "      <th>character_count</th>\n",
       "      <th>rating_numerator</th>\n",
       "      <th>rating_denominator</th>\n",
       "      <th>rating_ratio</th>\n",
       "      <th>favorite_count</th>\n",
       "      <th>retweet_count</th>\n",
       "    </tr>\n",
       "  </thead>\n",
       "  <tbody>\n",
       "    <tr>\n",
       "      <th>count</th>\n",
       "      <td>2051.000000</td>\n",
       "      <td>2051.000000</td>\n",
       "      <td>2051.000000</td>\n",
       "      <td>2051.000000</td>\n",
       "      <td>2051.000000</td>\n",
       "      <td>2051.000000</td>\n",
       "    </tr>\n",
       "    <tr>\n",
       "      <th>mean</th>\n",
       "      <td>111.719649</td>\n",
       "      <td>12.237338</td>\n",
       "      <td>10.521697</td>\n",
       "      <td>1.165908</td>\n",
       "      <td>8527.893710</td>\n",
       "      <td>2950.543637</td>\n",
       "    </tr>\n",
       "    <tr>\n",
       "      <th>std</th>\n",
       "      <td>26.143299</td>\n",
       "      <td>40.889129</td>\n",
       "      <td>7.215897</td>\n",
       "      <td>4.007080</td>\n",
       "      <td>12049.556241</td>\n",
       "      <td>5000.732425</td>\n",
       "    </tr>\n",
       "    <tr>\n",
       "      <th>min</th>\n",
       "      <td>13.000000</td>\n",
       "      <td>0.000000</td>\n",
       "      <td>10.000000</td>\n",
       "      <td>0.000000</td>\n",
       "      <td>0.000000</td>\n",
       "      <td>16.000000</td>\n",
       "    </tr>\n",
       "    <tr>\n",
       "      <th>25%</th>\n",
       "      <td>94.000000</td>\n",
       "      <td>10.000000</td>\n",
       "      <td>10.000000</td>\n",
       "      <td>1.000000</td>\n",
       "      <td>1675.000000</td>\n",
       "      <td>634.500000</td>\n",
       "    </tr>\n",
       "    <tr>\n",
       "      <th>50%</th>\n",
       "      <td>116.000000</td>\n",
       "      <td>11.000000</td>\n",
       "      <td>10.000000</td>\n",
       "      <td>1.100000</td>\n",
       "      <td>3855.000000</td>\n",
       "      <td>1403.000000</td>\n",
       "    </tr>\n",
       "    <tr>\n",
       "      <th>75%</th>\n",
       "      <td>137.000000</td>\n",
       "      <td>12.000000</td>\n",
       "      <td>10.000000</td>\n",
       "      <td>1.200000</td>\n",
       "      <td>10940.000000</td>\n",
       "      <td>3443.000000</td>\n",
       "    </tr>\n",
       "    <tr>\n",
       "      <th>max</th>\n",
       "      <td>148.000000</td>\n",
       "      <td>1776.000000</td>\n",
       "      <td>170.000000</td>\n",
       "      <td>177.600000</td>\n",
       "      <td>132810.000000</td>\n",
       "      <td>79515.000000</td>\n",
       "    </tr>\n",
       "  </tbody>\n",
       "</table>\n",
       "</div>"
      ],
      "text/plain": [
       "       character_count  rating_numerator  rating_denominator  rating_ratio  \\\n",
       "count      2051.000000       2051.000000         2051.000000   2051.000000   \n",
       "mean        111.719649         12.237338           10.521697      1.165908   \n",
       "std          26.143299         40.889129            7.215897      4.007080   \n",
       "min          13.000000          0.000000           10.000000      0.000000   \n",
       "25%          94.000000         10.000000           10.000000      1.000000   \n",
       "50%         116.000000         11.000000           10.000000      1.100000   \n",
       "75%         137.000000         12.000000           10.000000      1.200000   \n",
       "max         148.000000       1776.000000          170.000000    177.600000   \n",
       "\n",
       "       favorite_count  retweet_count  \n",
       "count     2051.000000    2051.000000  \n",
       "mean      8527.893710    2950.543637  \n",
       "std      12049.556241    5000.732425  \n",
       "min          0.000000      16.000000  \n",
       "25%       1675.000000     634.500000  \n",
       "50%       3855.000000    1403.000000  \n",
       "75%      10940.000000    3443.000000  \n",
       "max     132810.000000   79515.000000  "
      ]
     },
     "execution_count": 60,
     "metadata": {},
     "output_type": "execute_result"
    }
   ],
   "source": [
    "# Since the minimum values of rating_numerator,rating_ratio,and favorite_count are zero respectively,\n",
    "# Hence, there is need to handle this issue.\n",
    "\n",
    "df.describe()"
   ]
  },
  {
   "cell_type": "code",
   "execution_count": 61,
   "metadata": {},
   "outputs": [
    {
     "data": {
      "text/plain": [
       "2"
      ]
     },
     "execution_count": 61,
     "metadata": {},
     "output_type": "execute_result"
    }
   ],
   "source": [
    "# Checking for the numbers of zero values in rating_numerator,rating_ratio,and favorite_count respectively\n",
    "df.query('rating_numerator ==0').count()['tweet_id']"
   ]
  },
  {
   "cell_type": "code",
   "execution_count": 62,
   "metadata": {},
   "outputs": [
    {
     "data": {
      "text/plain": [
       "2"
      ]
     },
     "execution_count": 62,
     "metadata": {},
     "output_type": "execute_result"
    }
   ],
   "source": [
    "df.query('rating_ratio ==0').count()['tweet_id']"
   ]
  },
  {
   "cell_type": "code",
   "execution_count": 63,
   "metadata": {},
   "outputs": [
    {
     "data": {
      "text/plain": [
       "76"
      ]
     },
     "execution_count": 63,
     "metadata": {},
     "output_type": "execute_result"
    }
   ],
   "source": [
    "df.query('favorite_count ==0').count()['tweet_id']"
   ]
  },
  {
   "cell_type": "code",
   "execution_count": 64,
   "metadata": {},
   "outputs": [],
   "source": [
    "# There are 2, 2 and 76 zero values in rating_numerator,rating_ratio,and favorite_count respectively\n",
    "# Hence, I replaced them with null.\n",
    "df['rating_numerator'] = df['rating_numerator'].replace(0, np.nan) \n",
    "df['rating_ratio'] = df['rating_ratio'].replace(0, np.nan) \n",
    "df['favorite_count'] = df['favorite_count'].replace(0, np.nan) "
   ]
  },
  {
   "cell_type": "code",
   "execution_count": 65,
   "metadata": {},
   "outputs": [
    {
     "data": {
      "text/html": [
       "<div>\n",
       "<style scoped>\n",
       "    .dataframe tbody tr th:only-of-type {\n",
       "        vertical-align: middle;\n",
       "    }\n",
       "\n",
       "    .dataframe tbody tr th {\n",
       "        vertical-align: top;\n",
       "    }\n",
       "\n",
       "    .dataframe thead th {\n",
       "        text-align: right;\n",
       "    }\n",
       "</style>\n",
       "<table border=\"1\" class=\"dataframe\">\n",
       "  <thead>\n",
       "    <tr style=\"text-align: right;\">\n",
       "      <th></th>\n",
       "      <th>character_count</th>\n",
       "      <th>rating_numerator</th>\n",
       "      <th>rating_denominator</th>\n",
       "      <th>rating_ratio</th>\n",
       "      <th>favorite_count</th>\n",
       "      <th>retweet_count</th>\n",
       "    </tr>\n",
       "  </thead>\n",
       "  <tbody>\n",
       "    <tr>\n",
       "      <th>count</th>\n",
       "      <td>2051.000000</td>\n",
       "      <td>2049.000000</td>\n",
       "      <td>2051.000000</td>\n",
       "      <td>2049.000000</td>\n",
       "      <td>1975.000000</td>\n",
       "      <td>2051.000000</td>\n",
       "    </tr>\n",
       "    <tr>\n",
       "      <th>mean</th>\n",
       "      <td>111.719649</td>\n",
       "      <td>12.249283</td>\n",
       "      <td>10.521697</td>\n",
       "      <td>1.167046</td>\n",
       "      <td>8856.055696</td>\n",
       "      <td>2950.543637</td>\n",
       "    </tr>\n",
       "    <tr>\n",
       "      <th>std</th>\n",
       "      <td>26.143299</td>\n",
       "      <td>40.907301</td>\n",
       "      <td>7.215897</td>\n",
       "      <td>4.008870</td>\n",
       "      <td>12160.348292</td>\n",
       "      <td>5000.732425</td>\n",
       "    </tr>\n",
       "    <tr>\n",
       "      <th>min</th>\n",
       "      <td>13.000000</td>\n",
       "      <td>1.000000</td>\n",
       "      <td>10.000000</td>\n",
       "      <td>0.100000</td>\n",
       "      <td>81.000000</td>\n",
       "      <td>16.000000</td>\n",
       "    </tr>\n",
       "    <tr>\n",
       "      <th>25%</th>\n",
       "      <td>94.000000</td>\n",
       "      <td>10.000000</td>\n",
       "      <td>10.000000</td>\n",
       "      <td>1.000000</td>\n",
       "      <td>1976.000000</td>\n",
       "      <td>634.500000</td>\n",
       "    </tr>\n",
       "    <tr>\n",
       "      <th>50%</th>\n",
       "      <td>116.000000</td>\n",
       "      <td>11.000000</td>\n",
       "      <td>10.000000</td>\n",
       "      <td>1.100000</td>\n",
       "      <td>4099.000000</td>\n",
       "      <td>1403.000000</td>\n",
       "    </tr>\n",
       "    <tr>\n",
       "      <th>75%</th>\n",
       "      <td>137.000000</td>\n",
       "      <td>12.000000</td>\n",
       "      <td>10.000000</td>\n",
       "      <td>1.200000</td>\n",
       "      <td>11306.000000</td>\n",
       "      <td>3443.000000</td>\n",
       "    </tr>\n",
       "    <tr>\n",
       "      <th>max</th>\n",
       "      <td>148.000000</td>\n",
       "      <td>1776.000000</td>\n",
       "      <td>170.000000</td>\n",
       "      <td>177.600000</td>\n",
       "      <td>132810.000000</td>\n",
       "      <td>79515.000000</td>\n",
       "    </tr>\n",
       "  </tbody>\n",
       "</table>\n",
       "</div>"
      ],
      "text/plain": [
       "       character_count  rating_numerator  rating_denominator  rating_ratio  \\\n",
       "count      2051.000000       2049.000000         2051.000000   2049.000000   \n",
       "mean        111.719649         12.249283           10.521697      1.167046   \n",
       "std          26.143299         40.907301            7.215897      4.008870   \n",
       "min          13.000000          1.000000           10.000000      0.100000   \n",
       "25%          94.000000         10.000000           10.000000      1.000000   \n",
       "50%         116.000000         11.000000           10.000000      1.100000   \n",
       "75%         137.000000         12.000000           10.000000      1.200000   \n",
       "max         148.000000       1776.000000          170.000000    177.600000   \n",
       "\n",
       "       favorite_count  retweet_count  \n",
       "count     1975.000000    2051.000000  \n",
       "mean      8856.055696    2950.543637  \n",
       "std      12160.348292    5000.732425  \n",
       "min         81.000000      16.000000  \n",
       "25%       1976.000000     634.500000  \n",
       "50%       4099.000000    1403.000000  \n",
       "75%      11306.000000    3443.000000  \n",
       "max     132810.000000   79515.000000  "
      ]
     },
     "execution_count": 65,
     "metadata": {},
     "output_type": "execute_result"
    }
   ],
   "source": [
    "# Confirming if the zero values have been replaced with null\n",
    "df.describe()"
   ]
  },
  {
   "cell_type": "code",
   "execution_count": null,
   "metadata": {},
   "outputs": [],
   "source": []
  },
  {
   "cell_type": "markdown",
   "metadata": {},
   "source": [
    "##  Corrolation map plot of the relationship between the variables"
   ]
  },
  {
   "cell_type": "code",
   "execution_count": 79,
   "metadata": {},
   "outputs": [
    {
     "data": {
      "image/png": "[encoded data removed]",
      "text/plain": [
       "<Figure size 936x936 with 2 Axes>"
      ]
     },
     "metadata": {},
     "output_type": "display_data"
    }
   ],
   "source": [
    "f,ax = plt.subplots(figsize=(13, 13))\n",
    "sns.heatmap(df[[ 'favorite_count','retweet_count','character_count',\n",
    "                'rating_ratio']].corr(), annot=True, linewidths=.5, fmt= '.1f',ax=ax)\n",
    "plt.title('Correlation Map');\n",
    "plt.savefig('correlation_map.png');"
   ]
  },
  {
   "cell_type": "markdown",
   "metadata": {},
   "source": [
    "- Favorites and retweet counts are the only strong correlation of 0.9 on the figure above, this is usual because the more the  forvorites the more the retweets.\n",
    "- Charcter count have weak negative correlation of -0.1 on favorites, retweet and rating prediction.\n",
    "- Rating do not affect favorites and retweet but it does affect character in a negative way (-0.1)"
   ]
  },
  {
   "cell_type": "markdown",
   "metadata": {},
   "source": [
    "## Scatter Plot of Tweet Retweet Vs Favorites."
   ]
  },
  {
   "cell_type": "code",
   "execution_count": 67,
   "metadata": {},
   "outputs": [
    {
     "data": {
      "image/png": "[encoded data removed]",
      "text/plain": [
       "<Figure size 432x288 with 1 Axes>"
      ]
     },
     "metadata": {},
     "output_type": "display_data"
    }
   ],
   "source": [
    "df.plot(kind='scatter',x='favorite_count',y='retweet_count', alpha = 0.5)\n",
    "plt.xlabel('Favorites')\n",
    "plt.ylabel('Retweets')\n",
    "plt.title('Retweets and favorites Scatter plot')\n",
    "plt.savefig('plot_retweet _vs_favorites.png');"
   ]
  },
  {
   "cell_type": "markdown",
   "metadata": {},
   "source": [
    "- The scattered plot shows that retweet is high correlated with favorites."
   ]
  },
  {
   "cell_type": "markdown",
   "metadata": {},
   "source": [
    "## Retweets and favorites over time"
   ]
  },
  {
   "cell_type": "code",
   "execution_count": 68,
   "metadata": {},
   "outputs": [
    {
     "data": {
      "image/png": "[encoded data removed]",
      "text/plain": [
       "<Figure size 432x288 with 1 Axes>"
      ]
     },
     "metadata": {},
     "output_type": "display_data"
    }
   ],
   "source": [
    "df['retweet_count'].plot(color = 'red', label='Retweets')\n",
    "df['favorite_count'].plot(color = 'blue', label='Favorites')\n",
    "plt.style.use('seaborn-darkgrid')\n",
    "plt.legend(loc='upper left')\n",
    "plt.xlabel('Tweet timestamp')\n",
    "plt.ylabel('Count')\n",
    "plt.title('Retweets and favorites over time')\n",
    "plt.savefig('retweets_favorites.png')\n",
    "plt.show();"
   ]
  },
  {
   "cell_type": "markdown",
   "metadata": {},
   "source": [
    "- From the graph above, the we can see that we have more favorites than retweets.\n"
   ]
  },
  {
   "cell_type": "markdown",
   "metadata": {},
   "source": [
    "### Top Breeds"
   ]
  },
  {
   "cell_type": "code",
   "execution_count": 69,
   "metadata": {},
   "outputs": [],
   "source": [
    "# Breed count\n",
    "\n",
    "breed_count = df.query('dog == True')\\\n",
    ".groupby('breed').count()[['tweet_id']]\\\n",
    ".sort_values('tweet_id', ascending=False)[:20]"
   ]
  },
  {
   "cell_type": "code",
   "execution_count": 70,
   "metadata": {},
   "outputs": [
    {
     "data": {
      "image/png": "[encoded data removed]",
      "text/plain": [
       "<Figure size 432x288 with 1 Axes>"
      ]
     },
     "metadata": {},
     "output_type": "display_data"
    }
   ],
   "source": [
    "breed_count.plot(kind='barh', legend=False)\n",
    "plt.title(\"Top Breeds\")\n",
    "plt.xlabel(\"Count\")\n",
    "plt.ylabel(\"Breed\")\n",
    "plt.grid()\n",
    "plt.tight_layout()\n",
    "\n",
    "fig = plt.gcf() \n",
    "fig.savefig('top_breeds.png', bbox_inches='tight');"
   ]
  },
  {
   "cell_type": "markdown",
   "metadata": {},
   "source": [
    "The top breed identified in the gragh above is golden retriever followed by Labrador retriever."
   ]
  },
  {
   "cell_type": "code",
   "execution_count": 71,
   "metadata": {},
   "outputs": [],
   "source": [
    "# Average likes and retweets of top dogs\n",
    "avg_likes_retweets = df.query('dog == True').groupby('breed').mean()[['favorite_count', 'retweet_count']]\n",
    "avg_likes_retweets['count'] = df.query('dog == True').groupby('breed').count()[['tweet_id']]"
   ]
  },
  {
   "cell_type": "code",
   "execution_count": 72,
   "metadata": {},
   "outputs": [
    {
     "data": {
      "text/html": [
       "<div>\n",
       "<style scoped>\n",
       "    .dataframe tbody tr th:only-of-type {\n",
       "        vertical-align: middle;\n",
       "    }\n",
       "\n",
       "    .dataframe tbody tr th {\n",
       "        vertical-align: top;\n",
       "    }\n",
       "\n",
       "    .dataframe thead th {\n",
       "        text-align: right;\n",
       "    }\n",
       "</style>\n",
       "<table border=\"1\" class=\"dataframe\">\n",
       "  <thead>\n",
       "    <tr style=\"text-align: right;\">\n",
       "      <th></th>\n",
       "      <th>favorite_count</th>\n",
       "      <th>retweet_count</th>\n",
       "      <th>count</th>\n",
       "    </tr>\n",
       "  </thead>\n",
       "  <tbody>\n",
       "    <tr>\n",
       "      <th>favorite_count</th>\n",
       "      <td>1.000000</td>\n",
       "      <td>0.847561</td>\n",
       "      <td>0.198977</td>\n",
       "    </tr>\n",
       "    <tr>\n",
       "      <th>retweet_count</th>\n",
       "      <td>0.847561</td>\n",
       "      <td>1.000000</td>\n",
       "      <td>0.235664</td>\n",
       "    </tr>\n",
       "    <tr>\n",
       "      <th>count</th>\n",
       "      <td>0.198977</td>\n",
       "      <td>0.235664</td>\n",
       "      <td>1.000000</td>\n",
       "    </tr>\n",
       "  </tbody>\n",
       "</table>\n",
       "</div>"
      ],
      "text/plain": [
       "                favorite_count  retweet_count     count\n",
       "favorite_count        1.000000       0.847561  0.198977\n",
       "retweet_count         0.847561       1.000000  0.235664\n",
       "count                 0.198977       0.235664  1.000000"
      ]
     },
     "execution_count": 72,
     "metadata": {},
     "output_type": "execute_result"
    }
   ],
   "source": [
    "# variable correlation\n",
    "\n",
    "avg_likes_retweets.corr()"
   ]
  },
  {
   "cell_type": "code",
   "execution_count": 73,
   "metadata": {},
   "outputs": [
    {
     "data": {
      "image/png": "[encoded data removed]",
      "text/plain": [
       "<Figure size 432x288 with 1 Axes>"
      ]
     },
     "metadata": {},
     "output_type": "display_data"
    }
   ],
   "source": [
    "# Favorites and retweets of top dog breeds\n",
    "\n",
    "avg_likes_retweets.sort_values('count', ascending=False)[['favorite_count', 'retweet_count']][:20]\\\n",
    ".plot(kind='bar')\n",
    "plt.title('Favorites and Retweets of Top Breeds')\n",
    "plt.xlabel('Breed')\n",
    "plt.ylabel('Count')\n",
    "plt.grid()\n",
    "plt.tight_layout()\n",
    "plt.savefig('breed_favorites_retweets.png');"
   ]
  },
  {
   "cell_type": "markdown",
   "metadata": {},
   "source": [
    "The frequency of a particular breed does not necessary mean there is strong correlation with either mean favorite or retweet count as it shows 0.19 and 0.23 respectively."
   ]
  },
  {
   "cell_type": "code",
   "execution_count": null,
   "metadata": {},
   "outputs": [],
   "source": []
  }
 ],
 "metadata": {
  "kernelspec": {
   "display_name": "Python 3",
   "language": "python",
   "name": "python3"
  },
  "language_info": {
   "codemirror_mode": {
    "name": "ipython",
    "version": 3
   },
   "file_extension": ".py",
   "mimetype": "text/x-python",
   "name": "python",
   "nbconvert_exporter": "python",
   "pygments_lexer": "ipython3",
   "version": "3.7.6"
  }
 },
 "nbformat": 4,
 "nbformat_minor": 4
}
